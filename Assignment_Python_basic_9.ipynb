{
 "cells": [
  {
   "cell_type": "code",
   "execution_count": null,
   "id": "d4478c30",
   "metadata": {},
   "outputs": [],
   "source": [
    "1. To what does a relative path refer?\n",
    "\n",
    ":- A relative path refers to a path of some file with respect to current working dictionary"
   ]
  },
  {
   "cell_type": "code",
   "execution_count": null,
   "id": "7ca8e83f",
   "metadata": {},
   "outputs": [],
   "source": [
    "2. What does an absolute path start with your operating system?\n",
    "\n",
    ":- Absolute paths start with the root folder, such as / or C:\\."
   ]
  },
  {
   "cell_type": "code",
   "execution_count": null,
   "id": "8394ff91",
   "metadata": {},
   "outputs": [],
   "source": [
    "3. What do the functions os.getcwd() and os.chdir() do?\n",
    "\n",
    ":- The os.getcwd() function returns the current working directory. \n",
    "   The os.chdir() function changes the current working directory."
   ]
  },
  {
   "cell_type": "code",
   "execution_count": null,
   "id": "6655e20f",
   "metadata": {},
   "outputs": [],
   "source": [
    "4. What are the . and .. folders?\n",
    "\n",
    ":- The . folder is the current folder, and .. is the parent folder."
   ]
  },
  {
   "cell_type": "code",
   "execution_count": null,
   "id": "ee65b898",
   "metadata": {},
   "outputs": [],
   "source": [
    "5. In C:\\bacon\\eggs\\spam.txt, which part is the dir name, and which part is the base name?\n",
    "\n",
    ":- dir name- C:\\bacon\\eggs\n",
    "   base name- \\spam.txt"
   ]
  },
  {
   "cell_type": "code",
   "execution_count": null,
   "id": "5049c651",
   "metadata": {},
   "outputs": [],
   "source": [
    "6. What are the three “mode” arguments that can be passed to the open() function?\n",
    "\n",
    ":- r: Opens the file in read-only mode.\n",
    "   w: Opens in write-only mode. \n",
    "   a: Opens a file for appending new information to it."
   ]
  },
  {
   "cell_type": "code",
   "execution_count": null,
   "id": "2b391216",
   "metadata": {},
   "outputs": [],
   "source": [
    "7. What happens if an existing file is opened in write mode?\n",
    "\n",
    ":- An existing file opened in write mode is erased and completely overwritten."
   ]
  },
  {
   "cell_type": "code",
   "execution_count": null,
   "id": "3bed4d20",
   "metadata": {},
   "outputs": [],
   "source": [
    "8. How do you tell the difference between read() and readlines()?\n",
    "\n",
    ":- The read() returns the file’s entire contents as a single string value. \n",
    "   The readlines() returns a list of strings, where each string is a line from the file’s contents."
   ]
  },
  {
   "cell_type": "code",
   "execution_count": null,
   "id": "c6a94999",
   "metadata": {},
   "outputs": [],
   "source": [
    "9. What data structure does a shelf value resemble?  \n",
    "\n",
    ":- A shelf value resembles a dictionary value; it has keys and values"
   ]
  },
  {
   "cell_type": "code",
   "execution_count": null,
   "id": "631a5fa5",
   "metadata": {},
   "outputs": [],
   "source": []
  }
 ],
 "metadata": {
  "kernelspec": {
   "display_name": "Python 3",
   "language": "python",
   "name": "python3"
  },
  "language_info": {
   "codemirror_mode": {
    "name": "ipython",
    "version": 3
   },
   "file_extension": ".py",
   "mimetype": "text/x-python",
   "name": "python",
   "nbconvert_exporter": "python",
   "pygments_lexer": "ipython3",
   "version": "3.8.8"
  }
 },
 "nbformat": 4,
 "nbformat_minor": 5
}
