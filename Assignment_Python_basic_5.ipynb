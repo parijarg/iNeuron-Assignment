{
 "cells": [
  {
   "cell_type": "code",
   "execution_count": null,
   "id": "304de19b",
   "metadata": {},
   "outputs": [],
   "source": [
    "1. What does an empty dictionary's code look like?\n",
    "\n",
    ":- a{} or\n",
    "    a=dict()"
   ]
  },
  {
   "cell_type": "code",
   "execution_count": null,
   "id": "a1a00998",
   "metadata": {},
   "outputs": [],
   "source": [
    "2. What is the value of a dictionary value with the key value 'foo' and value 42?\n",
    "\n",
    ":- a={'foo': 42}"
   ]
  },
  {
   "cell_type": "code",
   "execution_count": null,
   "id": "a90a9dc9",
   "metadata": {},
   "outputs": [],
   "source": [
    "3. What is the most significant distinction between a dictionary and a list?\n",
    "\n",
    ":- A list is an ordered sequence of objects, whereas dictionaries are unordered sets.\n",
    "    The main difference is that items in dictionaries are accessed via keys and not via their position."
   ]
  },
  {
   "cell_type": "code",
   "execution_count": null,
   "id": "b7d08ff9",
   "metadata": {},
   "outputs": [],
   "source": [
    "4. What happens if you try to access spam['foo'] if spam is {'bar': 100}?\n",
    "\n",
    ":- It will give error,'keyerror'"
   ]
  },
  {
   "cell_type": "code",
   "execution_count": null,
   "id": "9a57f528",
   "metadata": {},
   "outputs": [],
   "source": [
    "5. If a dictionary is stored in spam, what is the difference between the expressions 'cat' in spam and 'cat' in spam.keys()?\n",
    "\n",
    ":- There is no difference. The operator checks whether a value exits as a key in the dictionary or not\n"
   ]
  },
  {
   "cell_type": "code",
   "execution_count": null,
   "id": "e761a819",
   "metadata": {},
   "outputs": [],
   "source": [
    "6. If a dictionary is stored in spam, what is the difference between the expressions 'cat' in spam and 'cat' in spam.values()?\n",
    "\n",
    ":- 'cat' in spam checks whether there is a 'cat' key in the dictionary, \n",
    "    and 'cat' in spam.values() checks if there is a value 'cat' for one of the keys in spam."
   ]
  },
  {
   "cell_type": "code",
   "execution_count": null,
   "id": "f57044a9",
   "metadata": {},
   "outputs": [],
   "source": [
    "7. What is a shortcut for the following code?\n",
    "\n",
    "if 'color' not in spam:\n",
    "    spam['color'] = 'black'\n",
    "\n",
    ":- spam.setdefault('color','black')"
   ]
  },
  {
   "cell_type": "code",
   "execution_count": null,
   "id": "89dde93c",
   "metadata": {},
   "outputs": [],
   "source": [
    "8. How do you 'pretty print' dictionary values using which module and function?\n",
    "\n",
    ":- Within the pprint module there is a function with the same name pprint(), \n",
    "   which is the function used to pretty-print the given string or object."
   ]
  }
 ],
 "metadata": {
  "kernelspec": {
   "display_name": "Python 3",
   "language": "python",
   "name": "python3"
  },
  "language_info": {
   "codemirror_mode": {
    "name": "ipython",
    "version": 3
   },
   "file_extension": ".py",
   "mimetype": "text/x-python",
   "name": "python",
   "nbconvert_exporter": "python",
   "pygments_lexer": "ipython3",
   "version": "3.8.8"
  }
 },
 "nbformat": 4,
 "nbformat_minor": 5
}
