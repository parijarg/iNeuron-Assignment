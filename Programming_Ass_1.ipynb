{
 "cells": [
  {
   "cell_type": "markdown",
   "id": "fa9eebeb",
   "metadata": {},
   "source": [
    "#### 1. Write a Python program to print \"Hello Python\""
   ]
  },
  {
   "cell_type": "code",
   "execution_count": 18,
   "id": "dc6f22fc",
   "metadata": {},
   "outputs": [
    {
     "name": "stdout",
     "output_type": "stream",
     "text": [
      "Hello Python\n"
     ]
    }
   ],
   "source": [
    "print(\"Hello Python\")"
   ]
  },
  {
   "cell_type": "markdown",
   "id": "429fc874",
   "metadata": {},
   "source": [
    "#### 2. Write a Python program to do arithmetical operations addition and division.?"
   ]
  },
  {
   "cell_type": "code",
   "execution_count": 24,
   "id": "30c0d291",
   "metadata": {},
   "outputs": [
    {
     "name": "stdout",
     "output_type": "stream",
     "text": [
      "Enter first number: 12\n",
      "Enter second number: 2\n",
      "Addition of two numbers is: 14\n",
      "Division of two numbers is: 6.0\n"
     ]
    }
   ],
   "source": [
    "a=int(input(\"Enter first number: \"))\n",
    "b=int(input(\"Enter second number: \"))\n",
    "if b==0:\n",
    "    print(\"Please enter valid number\")\n",
    "else:\n",
    "    add=a+b\n",
    "    div=a/b\n",
    "    print(\"Addition of two numbers is:\",add)\n",
    "    print(\"Division of two numbers is:\",div)"
   ]
  },
  {
   "cell_type": "markdown",
   "id": "a0414a2d",
   "metadata": {},
   "source": [
    "#### 3. Write a Python program to find the area of a triangle?\n"
   ]
  },
  {
   "cell_type": "code",
   "execution_count": 9,
   "id": "7f281cbc",
   "metadata": {},
   "outputs": [
    {
     "name": "stdout",
     "output_type": "stream",
     "text": [
      "Enter base of triangle: 10\n",
      "Enter height of triangle: 5\n",
      "Area of triangle is:  25.0\n"
     ]
    }
   ],
   "source": [
    "b=int(input(\"Enter base of triangle: \"))\n",
    "h=int(input(\"Enter height of triangle: \"))\n",
    "area=(b*h)/2\n",
    "print(\"Area of triangle is: \",area)"
   ]
  },
  {
   "cell_type": "markdown",
   "id": "5640bd1c",
   "metadata": {},
   "source": [
    "#### 4. Write a Python program to swap two variables?"
   ]
  },
  {
   "cell_type": "code",
   "execution_count": 13,
   "id": "a1cb2c30",
   "metadata": {},
   "outputs": [
    {
     "name": "stdout",
     "output_type": "stream",
     "text": [
      "20 10\n"
     ]
    }
   ],
   "source": [
    "a=10\n",
    "b=20\n",
    "a,b=b,a\n",
    "print(a,b)"
   ]
  },
  {
   "cell_type": "markdown",
   "id": "2dd1db38",
   "metadata": {},
   "source": [
    "#### 5. Write a Python program to generate a random number?"
   ]
  },
  {
   "cell_type": "code",
   "execution_count": 16,
   "id": "716e79db",
   "metadata": {},
   "outputs": [
    {
     "name": "stdout",
     "output_type": "stream",
     "text": [
      "30\n"
     ]
    }
   ],
   "source": [
    "import random\n",
    "print(random.randint(2,50))"
   ]
  },
  {
   "cell_type": "code",
   "execution_count": null,
   "id": "ca66f060",
   "metadata": {},
   "outputs": [],
   "source": []
  }
 ],
 "metadata": {
  "kernelspec": {
   "display_name": "Python 3",
   "language": "python",
   "name": "python3"
  },
  "language_info": {
   "codemirror_mode": {
    "name": "ipython",
    "version": 3
   },
   "file_extension": ".py",
   "mimetype": "text/x-python",
   "name": "python",
   "nbconvert_exporter": "python",
   "pygments_lexer": "ipython3",
   "version": "3.8.8"
  }
 },
 "nbformat": 4,
 "nbformat_minor": 5
}
