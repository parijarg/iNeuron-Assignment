{
 "cells": [
  {
   "cell_type": "code",
   "execution_count": null,
   "id": "d4478c30",
   "metadata": {},
   "outputs": [],
   "source": [
    "1. Is the Python Standard Library included with PyInputPlus?\n",
    "\n",
    ":-  No, PyInputPlus is not included in python standard library"
   ]
  },
  {
   "cell_type": "code",
   "execution_count": null,
   "id": "6104ac91",
   "metadata": {},
   "outputs": [],
   "source": [
    "2. Why is PyInputPlus commonly imported with import pyinputplus as pypi?\n",
    "\n",
    ":-  PyInputPlus commonly imported with import pyinputplus as pypi, \n",
    "    so that you can enter a shorter name when calling the module's functions."
   ]
  },
  {
   "cell_type": "code",
   "execution_count": null,
   "id": "873a79dc",
   "metadata": {},
   "outputs": [],
   "source": [
    "3. How do you distinguish between inputInt() and inputFloat()?\n",
    "\n",
    ":- inputInt() always returns an integer and\n",
    "   inputFloat() always returns a float"
   ]
  },
  {
   "cell_type": "code",
   "execution_count": null,
   "id": "5397809b",
   "metadata": {},
   "outputs": [],
   "source": [
    "4. Using PyInputPlus, how do you ensure that the user enters a whole number between 0 and 99?\n",
    "\n",
    ":- inputInt() function in PyInputPlus accepts integer value and additional \n",
    "   parameters min and max to restrict range of input from user"
   ]
  },
  {
   "cell_type": "code",
   "execution_count": null,
   "id": "88f9c11c",
   "metadata": {},
   "outputs": [],
   "source": [
    "5. What is transferred to the keyword arguments allowRegexes and blockRegexes?\n",
    "\n",
    ":- allowRegexes and blockRegexes keyword arguments are used to take list of regular expression strings \n",
    "   to determine what the pyinputplus function will reject or accept valid input."
   ]
  },
  {
   "cell_type": "code",
   "execution_count": null,
   "id": "e40fb21c",
   "metadata": {},
   "outputs": [],
   "source": [
    "6. If a blank input is entered three times, what does inputStr(limit=3) do?\n",
    "\n",
    ":- inputStr() raises a TimeoutException exception. \n",
    "   If the user answers incorrectly more than 3 times, it raises a RetryLimitException exception.\n"
   ]
  },
  {
   "cell_type": "code",
   "execution_count": null,
   "id": "4c6c6de4",
   "metadata": {},
   "outputs": [],
   "source": [
    "7. If blank input is entered three times, what does inputStr(limit=3, default='hello') do?\n",
    "\n",
    ":- if blank input is entred three times, in function (limit=3, default='hello'), then the function will return'hello'\n",
    "   insted of raising RetryLimitException exception."
   ]
  }
 ],
 "metadata": {
  "kernelspec": {
   "display_name": "Python 3",
   "language": "python",
   "name": "python3"
  },
  "language_info": {
   "codemirror_mode": {
    "name": "ipython",
    "version": 3
   },
   "file_extension": ".py",
   "mimetype": "text/x-python",
   "name": "python",
   "nbconvert_exporter": "python",
   "pygments_lexer": "ipython3",
   "version": "3.8.8"
  }
 },
 "nbformat": 4,
 "nbformat_minor": 5
}
