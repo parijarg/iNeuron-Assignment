{
 "cells": [
  {
   "cell_type": "code",
   "execution_count": 1,
   "id": "ae4a109e",
   "metadata": {},
   "outputs": [
    {
     "name": "stdout",
     "output_type": "stream",
     "text": [
      "Object `them` not found.\n"
     ]
    }
   ],
   "source": [
    "1.What are the two values of the Boolean data type? How do you write them?\n",
    ":- There are two values of boolean data type. They are True and False, \n",
    "    first letter i.e. T and F must be in capital letter to use them in program"
   ]
  },
  {
   "cell_type": "code",
   "execution_count": null,
   "id": "1b1fd7cd",
   "metadata": {},
   "outputs": [],
   "source": [
    "2. What are the three different types of Boolean operators?\n",
    ":- There are three boolean oprator. They are and or not"
   ]
  },
  {
   "cell_type": "code",
   "execution_count": null,
   "id": "305224ad",
   "metadata": {},
   "outputs": [],
   "source": [
    "3. Make a list of each Boolean operator's truth tables (i.e. every possible combination of Boolean\n",
    "values for the operator and what it evaluate ).\n",
    ":-\n",
    "Truth Table for and operaotor\n",
    "    True and True is True\n",
    "    True and False is False\n",
    "    False and True is False\n",
    "    False and False is False\n",
    "Truth Table for or operaotor\n",
    "    True or True is True\n",
    "    True or False is True\n",
    "    False or True is True\n",
    "    False or False is False\n",
    "Truth Table for not operaotor\n",
    "    True not is False \n",
    "    False not is True"
   ]
  },
  {
   "cell_type": "code",
   "execution_count": null,
   "id": "bf55a4d8",
   "metadata": {},
   "outputs": [],
   "source": [
    "4. What are the values of the following expressions?\n",
    "(5 > 4) and (3 == 5)\n",
    "not (5 > 4)\n",
    "(5 >4) or (3 == 5)\n",
    "not ((5 > 4) or (3 == 5))\n",
    "(True and True) and (True == False)\n",
    "(not False) or (not True)"
   ]
  },
  {
   "cell_type": "code",
   "execution_count": null,
   "id": "b8d1ba42",
   "metadata": {},
   "outputs": [],
   "source": [
    ":-  False\n",
    "    False\n",
    "    True\n",
    "    False\n",
    "    False\n",
    "    True"
   ]
  },
  {
   "cell_type": "code",
   "execution_count": null,
   "id": "825d3027",
   "metadata": {},
   "outputs": [],
   "source": [
    "5. What are the six comparison operators?\n",
    ":- Comparison operator are as follows\n",
    "    Less than ( < )\n",
    "    Less than or equal to ( <= )\n",
    "    Greater than ( > )\n",
    "    Greater than or equal to ( >= )\n",
    "    Equal to ( == )\n",
    "    Not equal to ( != )"
   ]
  },
  {
   "cell_type": "code",
   "execution_count": null,
   "id": "9d640bb5",
   "metadata": {},
   "outputs": [],
   "source": [
    "6. How do you tell the difference between the equal to and assignment operators?Describe a\n",
    "condition and when you would use one.\n",
    ":- Assignment operator is '='\n",
    "   Equal to is'== \n",
    "   e.g. a=10 #assigned 10 value in variable a\n",
    "        if a==10:  # Comapres if value of a is 10 or not \n",
    "            print(a) "
   ]
  },
  {
   "cell_type": "code",
   "execution_count": null,
   "id": "ec7fbd92",
   "metadata": {},
   "outputs": [],
   "source": [
    "7. Identify the three blocks in this code:\n",
    "spam = 0\n",
    "if spam == 10:\n",
    "print('eggs')\n",
    "if spam > 5:\n",
    "print('bacon')\n",
    "else:\n",
    "print('ham')\n",
    "print('spam')\n",
    "print('spam')"
   ]
  },
  {
   "cell_type": "code",
   "execution_count": null,
   "id": "806fbcf6",
   "metadata": {},
   "outputs": [],
   "source": [
    ":- A block is a piece of Python program text that is executed as a unit. \n",
    "   The following are blocks: a module, a function body, and a class definition. In above program blocks are\n",
    "spam = 0\n",
    "if spam == 10:\n",
    "    print('eggs') #block1\n",
    "if spam > 5:\n",
    "    print('bacon';) #block2\n",
    "else:\n",
    "    print('ham') #block3\n",
    "    print('spam')\n",
    "    print('spam')"
   ]
  },
  {
   "cell_type": "code",
   "execution_count": null,
   "id": "c7c29618",
   "metadata": {},
   "outputs": [],
   "source": [
    "8. Write code that prints Hello if 1 is stored in spam, prints Howdy if 2 is stored in spam, and prints\n",
    "Greetings! if anything else is stored in spam."
   ]
  },
  {
   "cell_type": "code",
   "execution_count": 6,
   "id": "5c3dc503",
   "metadata": {},
   "outputs": [
    {
     "name": "stdout",
     "output_type": "stream",
     "text": [
      "Enter a number: 1\n",
      "Hello\n"
     ]
    }
   ],
   "source": [
    "spam=int(input('Enter a number: '))\n",
    "if spam==1:\n",
    "    print(\"Hello\")\n",
    "elif spam==2:\n",
    "    print(\"Howdy\")\n",
    "else:\n",
    "    print(\"Greetings!\")"
   ]
  },
  {
   "cell_type": "code",
   "execution_count": null,
   "id": "23b58f5c",
   "metadata": {},
   "outputs": [],
   "source": [
    "9.If your programme is stuck in an endless loop, what keys you’ll press?\n",
    ":- Ctrl+c key is used to come out of an endless loop"
   ]
  },
  {
   "cell_type": "code",
   "execution_count": null,
   "id": "4fd68e02",
   "metadata": {},
   "outputs": [],
   "source": [
    "10. How can you tell the difference between break and continue?\n",
    ":- The 'break 'stop the continuation of the loop when condition is satified.\n",
    "   The 'continue' does not stop the continuation of loop and it stops the current condition. "
   ]
  },
  {
   "cell_type": "code",
   "execution_count": null,
   "id": "6c04cdd4",
   "metadata": {},
   "outputs": [],
   "source": [
    "11. In a for loop, what is the difference between range(10), range(0, 10), and range(0, 10, 1)?\n",
    ":- There is no difference between all three range functions.\n",
    "    in range function e.g range(0,10,1)\n",
    "    first number- 0 is starting point\n",
    "    second number 10 is end point, which python eliminates and output shows numer that comes before end point and \n",
    "    third point 1 specifies step\n",
    "    By default starting point is 0 unless specified and step i.e. third number is 1 by default.\n",
    "    Hence output of all three functions is same range(10), range(0, 10), and range(0, 10, 1) i.e.\n",
    "    (0,1,2,3,4,5,6,7,8,9)\n",
    "    "
   ]
  },
  {
   "cell_type": "code",
   "execution_count": null,
   "id": "277cc1ef",
   "metadata": {},
   "outputs": [],
   "source": [
    "12. Write a short program that prints the numbers 1 to 10 using a for loop. Then write an equivalent\n",
    "program that prints the numbers 1 to 10 using a while loop."
   ]
  },
  {
   "cell_type": "code",
   "execution_count": 3,
   "id": "be7ddfb7",
   "metadata": {},
   "outputs": [
    {
     "name": "stdout",
     "output_type": "stream",
     "text": [
      "1\n",
      "2\n",
      "3\n",
      "4\n",
      "5\n",
      "6\n",
      "7\n",
      "8\n",
      "9\n",
      "10\n"
     ]
    }
   ],
   "source": [
    "#using for loop\n",
    "for i in range(1,11):\n",
    "    print(i)"
   ]
  },
  {
   "cell_type": "code",
   "execution_count": 4,
   "id": "ce98f7dc",
   "metadata": {},
   "outputs": [
    {
     "name": "stdout",
     "output_type": "stream",
     "text": [
      "1\n",
      "2\n",
      "3\n",
      "4\n",
      "5\n",
      "6\n",
      "7\n",
      "8\n",
      "9\n",
      "10\n"
     ]
    }
   ],
   "source": [
    "#using while loop\n",
    "i=1\n",
    "while i<=10:\n",
    "    print(i)\n",
    "    i=i+1"
   ]
  },
  {
   "cell_type": "code",
   "execution_count": null,
   "id": "41641332",
   "metadata": {},
   "outputs": [],
   "source": [
    "13. If you had a function named bacon() inside a module named spam, how would you call it after\n",
    "importing spam?\n",
    ":- Function can be imported using spam.bacon()"
   ]
  }
 ],
 "metadata": {
  "kernelspec": {
   "display_name": "Python 3",
   "language": "python",
   "name": "python3"
  },
  "language_info": {
   "codemirror_mode": {
    "name": "ipython",
    "version": 3
   },
   "file_extension": ".py",
   "mimetype": "text/x-python",
   "name": "python",
   "nbconvert_exporter": "python",
   "pygments_lexer": "ipython3",
   "version": "3.8.8"
  }
 },
 "nbformat": 4,
 "nbformat_minor": 5
}
